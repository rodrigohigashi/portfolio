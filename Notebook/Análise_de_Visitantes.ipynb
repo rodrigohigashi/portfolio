{
 "cells": [
  {
   "cell_type": "markdown",
   "metadata": {
    "id": "dSKr3EZlHt3S"
   },
   "source": [
    "## Understanding the problem\n",
    "#### You were hired by Multiplan (Shopping Centers Manager) as Data Analyst. Your first task is generate insights which help administrators having an overview about shopping visitors based on income and score."
   ]
  },
  {
   "cell_type": "markdown",
   "metadata": {
    "id": "e58mVKNyIdKw"
   },
   "source": [
    "#### Importing Libraries"
   ]
  },
  {
   "cell_type": "code",
   "execution_count": 1,
   "metadata": {
    "id": "cQh5TQfEGdeK"
   },
   "outputs": [
    {
     "name": "stderr",
     "output_type": "stream",
     "text": [
      "c:\\Users\\rocki\\anaconda3\\Lib\\site-packages\\pandas\\core\\arrays\\masked.py:60: UserWarning: Pandas requires version '1.3.6' or newer of 'bottleneck' (version '1.3.5' currently installed).\n",
      "  from pandas.core import (\n"
     ]
    }
   ],
   "source": [
    "# Biblioteca para análise de dados\n",
    "import pandas as pd \n",
    "\n",
    "# Biblioteca para visualização de dados\n",
    "import matplotlib.pyplot as plt\n",
    "import seaborn as sns\n",
    "\n",
    "sns.set_style('darkgrid')"
   ]
  },
  {
   "cell_type": "markdown",
   "metadata": {
    "id": "dv6ZNZiiIzuh"
   },
   "source": [
    "#### Collecting Data"
   ]
  },
  {
   "cell_type": "markdown",
   "metadata": {
    "id": "qbln7hFiI7Fi"
   },
   "source": [
    "One professional from data sector has accomplished the data extraction straight from Bank and provided you a csv format dataset containing relevant variables and may be useful to answer these questions."
   ]
  },
  {
   "cell_type": "markdown",
   "metadata": {
    "id": "N5NtNWurJ1Ah"
   },
   "source": [
    "- CustomerID - Identificação do Visitante\n",
    "- Genre - Gênero do Visitante\n",
    "- Age - Idade do Visitante\n",
    "- Annual Income (kR$) - Renda anual do visitante\n",
    "- Spending Score (1-100) - Score do Visitante"
   ]
  },
  {
   "cell_type": "code",
   "execution_count": 2,
   "metadata": {
    "id": "UGXUKV5RIy3w"
   },
   "outputs": [],
   "source": [
    "df = pd.read_csv(\"clientes_shopping.csv\")"
   ]
  },
  {
   "cell_type": "code",
   "execution_count": 3,
   "metadata": {
    "colab": {
     "base_uri": "https://localhost:8080/",
     "height": 143
    },
    "id": "-WphZmoKKG-q",
    "outputId": "72ee8a7d-2f8c-4a2b-ce20-2a0dc5d68676"
   },
   "outputs": [
    {
     "data": {
      "text/html": [
       "<div>\n",
       "<style scoped>\n",
       "    .dataframe tbody tr th:only-of-type {\n",
       "        vertical-align: middle;\n",
       "    }\n",
       "\n",
       "    .dataframe tbody tr th {\n",
       "        vertical-align: top;\n",
       "    }\n",
       "\n",
       "    .dataframe thead th {\n",
       "        text-align: right;\n",
       "    }\n",
       "</style>\n",
       "<table border=\"1\" class=\"dataframe\">\n",
       "  <thead>\n",
       "    <tr style=\"text-align: right;\">\n",
       "      <th></th>\n",
       "      <th>CustomerID</th>\n",
       "      <th>Genre</th>\n",
       "      <th>Age</th>\n",
       "      <th>Annual Income (k$)</th>\n",
       "      <th>Spending Score (1-100)</th>\n",
       "    </tr>\n",
       "  </thead>\n",
       "  <tbody>\n",
       "    <tr>\n",
       "      <th>0</th>\n",
       "      <td>1</td>\n",
       "      <td>Male</td>\n",
       "      <td>19</td>\n",
       "      <td>15</td>\n",
       "      <td>39</td>\n",
       "    </tr>\n",
       "    <tr>\n",
       "      <th>1</th>\n",
       "      <td>2</td>\n",
       "      <td>Male</td>\n",
       "      <td>21</td>\n",
       "      <td>15</td>\n",
       "      <td>81</td>\n",
       "    </tr>\n",
       "    <tr>\n",
       "      <th>2</th>\n",
       "      <td>3</td>\n",
       "      <td>Female</td>\n",
       "      <td>20</td>\n",
       "      <td>16</td>\n",
       "      <td>6</td>\n",
       "    </tr>\n",
       "  </tbody>\n",
       "</table>\n",
       "</div>"
      ],
      "text/plain": [
       "   CustomerID   Genre  Age  Annual Income (k$)  Spending Score (1-100)\n",
       "0           1    Male   19                  15                      39\n",
       "1           2    Male   21                  15                      81\n",
       "2           3  Female   20                  16                       6"
      ]
     },
     "execution_count": 3,
     "metadata": {},
     "output_type": "execute_result"
    }
   ],
   "source": [
    "df.head(3)"
   ]
  },
  {
   "cell_type": "code",
   "execution_count": 4,
   "metadata": {
    "colab": {
     "base_uri": "https://localhost:8080/",
     "height": 143
    },
    "id": "TRwSI5XzKHcQ",
    "outputId": "37fba1a5-c573-4e94-fd49-6795fc35a833"
   },
   "outputs": [
    {
     "data": {
      "text/html": [
       "<div>\n",
       "<style scoped>\n",
       "    .dataframe tbody tr th:only-of-type {\n",
       "        vertical-align: middle;\n",
       "    }\n",
       "\n",
       "    .dataframe tbody tr th {\n",
       "        vertical-align: top;\n",
       "    }\n",
       "\n",
       "    .dataframe thead th {\n",
       "        text-align: right;\n",
       "    }\n",
       "</style>\n",
       "<table border=\"1\" class=\"dataframe\">\n",
       "  <thead>\n",
       "    <tr style=\"text-align: right;\">\n",
       "      <th></th>\n",
       "      <th>CustomerID</th>\n",
       "      <th>Genre</th>\n",
       "      <th>Age</th>\n",
       "      <th>Annual Income (k$)</th>\n",
       "      <th>Spending Score (1-100)</th>\n",
       "    </tr>\n",
       "  </thead>\n",
       "  <tbody>\n",
       "    <tr>\n",
       "      <th>197</th>\n",
       "      <td>198</td>\n",
       "      <td>Male</td>\n",
       "      <td>32</td>\n",
       "      <td>126</td>\n",
       "      <td>74</td>\n",
       "    </tr>\n",
       "    <tr>\n",
       "      <th>198</th>\n",
       "      <td>199</td>\n",
       "      <td>Male</td>\n",
       "      <td>32</td>\n",
       "      <td>137</td>\n",
       "      <td>18</td>\n",
       "    </tr>\n",
       "    <tr>\n",
       "      <th>199</th>\n",
       "      <td>200</td>\n",
       "      <td>Male</td>\n",
       "      <td>30</td>\n",
       "      <td>137</td>\n",
       "      <td>83</td>\n",
       "    </tr>\n",
       "  </tbody>\n",
       "</table>\n",
       "</div>"
      ],
      "text/plain": [
       "     CustomerID Genre  Age  Annual Income (k$)  Spending Score (1-100)\n",
       "197         198  Male   32                 126                      74\n",
       "198         199  Male   32                 137                      18\n",
       "199         200  Male   30                 137                      83"
      ]
     },
     "execution_count": 4,
     "metadata": {},
     "output_type": "execute_result"
    }
   ],
   "source": [
    "df.tail(3)"
   ]
  },
  {
   "cell_type": "code",
   "execution_count": 5,
   "metadata": {
    "colab": {
     "base_uri": "https://localhost:8080/"
    },
    "id": "1VuhJYxIKQ1M",
    "outputId": "ad4eae6a-c800-44ce-b65c-498eff54eaae"
   },
   "outputs": [
    {
     "name": "stdout",
     "output_type": "stream",
     "text": [
      "<class 'pandas.core.frame.DataFrame'>\n",
      "RangeIndex: 200 entries, 0 to 199\n",
      "Data columns (total 5 columns):\n",
      " #   Column                  Non-Null Count  Dtype \n",
      "---  ------                  --------------  ----- \n",
      " 0   CustomerID              200 non-null    int64 \n",
      " 1   Genre                   200 non-null    object\n",
      " 2   Age                     200 non-null    int64 \n",
      " 3   Annual Income (k$)      200 non-null    int64 \n",
      " 4   Spending Score (1-100)  200 non-null    int64 \n",
      "dtypes: int64(4), object(1)\n",
      "memory usage: 7.9+ KB\n"
     ]
    }
   ],
   "source": [
    "df.info()"
   ]
  },
  {
   "cell_type": "code",
   "execution_count": 6,
   "metadata": {
    "id": "ay5NkK87Z8rd"
   },
   "outputs": [],
   "source": [
    "df.drop(columns=['CustomerID'], inplace=True)"
   ]
  },
  {
   "cell_type": "code",
   "execution_count": 7,
   "metadata": {
    "id": "ji4x_tZEZ-w1"
   },
   "outputs": [],
   "source": [
    "df.rename(columns={'Genre': 'Genero', 'Age': 'Idade', 'Annual Income (k$)': 'Renda Anual(kR$)', 'Spending Score (1-100)':'Score(1-100)' }, inplace = True)"
   ]
  },
  {
   "cell_type": "code",
   "execution_count": 8,
   "metadata": {
    "colab": {
     "base_uri": "https://localhost:8080/"
    },
    "id": "6mq8DbeKaGQd",
    "outputId": "70e18459-570b-4148-95b7-af5e3fff9af4"
   },
   "outputs": [
    {
     "data": {
      "text/plain": [
       "(200, 4)"
      ]
     },
     "execution_count": 8,
     "metadata": {},
     "output_type": "execute_result"
    }
   ],
   "source": [
    "df.shape"
   ]
  },
  {
   "cell_type": "code",
   "execution_count": 9,
   "metadata": {
    "id": "NpSwjC-maNLm"
   },
   "outputs": [],
   "source": [
    "linhas, colunas = df.shape"
   ]
  },
  {
   "cell_type": "code",
   "execution_count": 10,
   "metadata": {
    "colab": {
     "base_uri": "https://localhost:8080/"
    },
    "id": "cVH210-faXC1",
    "outputId": "3bb3d3bc-b6c6-4265-fee6-f8067f554dbe"
   },
   "outputs": [
    {
     "name": "stdout",
     "output_type": "stream",
     "text": [
      "Número de visitantes do shopping conforme conjunto de dados disponibilizado é: 200\n"
     ]
    }
   ],
   "source": [
    "print(f\"Número de visitantes do shopping conforme conjunto de dados disponibilizado é: {linhas}\")"
   ]
  },
  {
   "cell_type": "markdown",
   "metadata": {
    "id": "40GXYUcbbRIc"
   },
   "source": [
    "#### Informações Estatísticas"
   ]
  },
  {
   "cell_type": "code",
   "execution_count": 11,
   "metadata": {
    "colab": {
     "base_uri": "https://localhost:8080/",
     "height": 300
    },
    "id": "aC9IJgzsad4u",
    "outputId": "1b287486-0590-4497-e75b-26446930f954"
   },
   "outputs": [
    {
     "data": {
      "text/html": [
       "<div>\n",
       "<style scoped>\n",
       "    .dataframe tbody tr th:only-of-type {\n",
       "        vertical-align: middle;\n",
       "    }\n",
       "\n",
       "    .dataframe tbody tr th {\n",
       "        vertical-align: top;\n",
       "    }\n",
       "\n",
       "    .dataframe thead th {\n",
       "        text-align: right;\n",
       "    }\n",
       "</style>\n",
       "<table border=\"1\" class=\"dataframe\">\n",
       "  <thead>\n",
       "    <tr style=\"text-align: right;\">\n",
       "      <th></th>\n",
       "      <th>Idade</th>\n",
       "      <th>Renda Anual(kR$)</th>\n",
       "      <th>Score(1-100)</th>\n",
       "    </tr>\n",
       "  </thead>\n",
       "  <tbody>\n",
       "    <tr>\n",
       "      <th>count</th>\n",
       "      <td>200.00</td>\n",
       "      <td>200.00</td>\n",
       "      <td>200.00</td>\n",
       "    </tr>\n",
       "    <tr>\n",
       "      <th>mean</th>\n",
       "      <td>38.85</td>\n",
       "      <td>60.56</td>\n",
       "      <td>50.20</td>\n",
       "    </tr>\n",
       "    <tr>\n",
       "      <th>std</th>\n",
       "      <td>13.97</td>\n",
       "      <td>26.26</td>\n",
       "      <td>25.82</td>\n",
       "    </tr>\n",
       "    <tr>\n",
       "      <th>min</th>\n",
       "      <td>18.00</td>\n",
       "      <td>15.00</td>\n",
       "      <td>1.00</td>\n",
       "    </tr>\n",
       "    <tr>\n",
       "      <th>25%</th>\n",
       "      <td>28.75</td>\n",
       "      <td>41.50</td>\n",
       "      <td>34.75</td>\n",
       "    </tr>\n",
       "    <tr>\n",
       "      <th>50%</th>\n",
       "      <td>36.00</td>\n",
       "      <td>61.50</td>\n",
       "      <td>50.00</td>\n",
       "    </tr>\n",
       "    <tr>\n",
       "      <th>75%</th>\n",
       "      <td>49.00</td>\n",
       "      <td>78.00</td>\n",
       "      <td>73.00</td>\n",
       "    </tr>\n",
       "    <tr>\n",
       "      <th>max</th>\n",
       "      <td>70.00</td>\n",
       "      <td>137.00</td>\n",
       "      <td>99.00</td>\n",
       "    </tr>\n",
       "  </tbody>\n",
       "</table>\n",
       "</div>"
      ],
      "text/plain": [
       "        Idade  Renda Anual(kR$)  Score(1-100)\n",
       "count  200.00            200.00        200.00\n",
       "mean    38.85             60.56         50.20\n",
       "std     13.97             26.26         25.82\n",
       "min     18.00             15.00          1.00\n",
       "25%     28.75             41.50         34.75\n",
       "50%     36.00             61.50         50.00\n",
       "75%     49.00             78.00         73.00\n",
       "max     70.00            137.00         99.00"
      ]
     },
     "execution_count": 11,
     "metadata": {},
     "output_type": "execute_result"
    }
   ],
   "source": [
    "df.describe().round(2)"
   ]
  },
  {
   "cell_type": "markdown",
   "metadata": {
    "id": "4LtVXSHecB7J"
   },
   "source": [
    "#### Dados Faltantes"
   ]
  },
  {
   "cell_type": "code",
   "execution_count": 12,
   "metadata": {
    "colab": {
     "base_uri": "https://localhost:8080/"
    },
    "id": "DFpK2CTwcGyW",
    "outputId": "a0e2ddbc-c092-43b1-afb0-cc903ef4bf30"
   },
   "outputs": [
    {
     "data": {
      "text/plain": [
       "Genero              0\n",
       "Idade               0\n",
       "Renda Anual(kR$)    0\n",
       "Score(1-100)        0\n",
       "dtype: int64"
      ]
     },
     "execution_count": 12,
     "metadata": {},
     "output_type": "execute_result"
    }
   ],
   "source": [
    "df.isnull().sum()"
   ]
  },
  {
   "cell_type": "markdown",
   "metadata": {
    "id": "Rf4DFIXCcYvZ"
   },
   "source": [
    "#### Duplicates"
   ]
  },
  {
   "cell_type": "code",
   "execution_count": 13,
   "metadata": {
    "colab": {
     "base_uri": "https://localhost:8080/",
     "height": 49
    },
    "id": "_pxtVEL3cT_e",
    "outputId": "99196054-8725-4347-e43d-8a13265f19b4"
   },
   "outputs": [
    {
     "data": {
      "text/html": [
       "<div>\n",
       "<style scoped>\n",
       "    .dataframe tbody tr th:only-of-type {\n",
       "        vertical-align: middle;\n",
       "    }\n",
       "\n",
       "    .dataframe tbody tr th {\n",
       "        vertical-align: top;\n",
       "    }\n",
       "\n",
       "    .dataframe thead th {\n",
       "        text-align: right;\n",
       "    }\n",
       "</style>\n",
       "<table border=\"1\" class=\"dataframe\">\n",
       "  <thead>\n",
       "    <tr style=\"text-align: right;\">\n",
       "      <th></th>\n",
       "      <th>Genero</th>\n",
       "      <th>Idade</th>\n",
       "      <th>Renda Anual(kR$)</th>\n",
       "      <th>Score(1-100)</th>\n",
       "    </tr>\n",
       "  </thead>\n",
       "  <tbody>\n",
       "  </tbody>\n",
       "</table>\n",
       "</div>"
      ],
      "text/plain": [
       "Empty DataFrame\n",
       "Columns: [Genero, Idade, Renda Anual(kR$), Score(1-100)]\n",
       "Index: []"
      ]
     },
     "execution_count": 13,
     "metadata": {},
     "output_type": "execute_result"
    }
   ],
   "source": [
    "df[df.duplicated()]"
   ]
  },
  {
   "cell_type": "code",
   "execution_count": 14,
   "metadata": {
    "colab": {
     "base_uri": "https://localhost:8080/"
    },
    "id": "md2OPdIbce8i",
    "outputId": "9d1856d9-35e0-4c4a-810d-c8a1f84c98ea"
   },
   "outputs": [
    {
     "data": {
      "text/plain": [
       "Index(['Genero', 'Idade', 'Renda Anual(kR$)', 'Score(1-100)'], dtype='object')"
      ]
     },
     "execution_count": 14,
     "metadata": {},
     "output_type": "execute_result"
    }
   ],
   "source": [
    "df.columns"
   ]
  },
  {
   "cell_type": "markdown",
   "metadata": {
    "id": "wBwqpLJecz7a"
   },
   "source": [
    "#### Genero - Gênero do Visitante do Shopping"
   ]
  },
  {
   "cell_type": "code",
   "execution_count": 15,
   "metadata": {
    "colab": {
     "base_uri": "https://localhost:8080/"
    },
    "id": "zsLGU0mXc627",
    "outputId": "e0d31916-50f1-4057-e2c4-1b11edaff92e"
   },
   "outputs": [
    {
     "data": {
      "text/plain": [
       "2"
      ]
     },
     "execution_count": 15,
     "metadata": {},
     "output_type": "execute_result"
    }
   ],
   "source": [
    "df['Genero'].nunique()"
   ]
  },
  {
   "cell_type": "code",
   "execution_count": 16,
   "metadata": {
    "colab": {
     "base_uri": "https://localhost:8080/"
    },
    "id": "d3wlQiLRdMRT",
    "outputId": "73b3e863-39b1-4973-87f1-787bc7b61b25"
   },
   "outputs": [
    {
     "data": {
      "text/plain": [
       "array(['Male', 'Female'], dtype=object)"
      ]
     },
     "execution_count": 16,
     "metadata": {},
     "output_type": "execute_result"
    }
   ],
   "source": [
    "df['Genero'].unique()"
   ]
  },
  {
   "cell_type": "code",
   "execution_count": 17,
   "metadata": {
    "id": "PwM4pOrKdPmt"
   },
   "outputs": [],
   "source": [
    "df['Genero'] = df['Genero'].replace(['Male'], 'Masculino')\n",
    "df['Genero'] = df['Genero'].replace(['Female'], 'Feminino')"
   ]
  },
  {
   "cell_type": "code",
   "execution_count": 18,
   "metadata": {
    "colab": {
     "base_uri": "https://localhost:8080/",
     "height": 143
    },
    "id": "1_KE_S8_evtJ",
    "outputId": "221df49f-3d0c-4e39-f19c-204c1717d6a0"
   },
   "outputs": [
    {
     "data": {
      "text/html": [
       "<div>\n",
       "<style scoped>\n",
       "    .dataframe tbody tr th:only-of-type {\n",
       "        vertical-align: middle;\n",
       "    }\n",
       "\n",
       "    .dataframe tbody tr th {\n",
       "        vertical-align: top;\n",
       "    }\n",
       "\n",
       "    .dataframe thead th {\n",
       "        text-align: right;\n",
       "    }\n",
       "</style>\n",
       "<table border=\"1\" class=\"dataframe\">\n",
       "  <thead>\n",
       "    <tr style=\"text-align: right;\">\n",
       "      <th></th>\n",
       "      <th>Genero</th>\n",
       "      <th>Idade</th>\n",
       "      <th>Renda Anual(kR$)</th>\n",
       "      <th>Score(1-100)</th>\n",
       "    </tr>\n",
       "  </thead>\n",
       "  <tbody>\n",
       "    <tr>\n",
       "      <th>0</th>\n",
       "      <td>Masculino</td>\n",
       "      <td>19</td>\n",
       "      <td>15</td>\n",
       "      <td>39</td>\n",
       "    </tr>\n",
       "    <tr>\n",
       "      <th>1</th>\n",
       "      <td>Masculino</td>\n",
       "      <td>21</td>\n",
       "      <td>15</td>\n",
       "      <td>81</td>\n",
       "    </tr>\n",
       "    <tr>\n",
       "      <th>2</th>\n",
       "      <td>Feminino</td>\n",
       "      <td>20</td>\n",
       "      <td>16</td>\n",
       "      <td>6</td>\n",
       "    </tr>\n",
       "  </tbody>\n",
       "</table>\n",
       "</div>"
      ],
      "text/plain": [
       "      Genero  Idade  Renda Anual(kR$)  Score(1-100)\n",
       "0  Masculino     19                15            39\n",
       "1  Masculino     21                15            81\n",
       "2   Feminino     20                16             6"
      ]
     },
     "execution_count": 18,
     "metadata": {},
     "output_type": "execute_result"
    }
   ],
   "source": [
    "df.head(3)"
   ]
  },
  {
   "cell_type": "markdown",
   "metadata": {
    "id": "udsgNA4tfTJb"
   },
   "source": [
    "#### Desses visitantes quantos são do sexo Masculino e Feminino?"
   ]
  },
  {
   "cell_type": "code",
   "execution_count": 19,
   "metadata": {
    "colab": {
     "base_uri": "https://localhost:8080/"
    },
    "id": "yhCPi88ofZ6T",
    "outputId": "ca4b2942-41c9-4c28-c8d8-3bcc86a572dd"
   },
   "outputs": [
    {
     "data": {
      "text/plain": [
       "Genero\n",
       "Feminino     112\n",
       "Masculino     88\n",
       "Name: count, dtype: int64"
      ]
     },
     "execution_count": 19,
     "metadata": {},
     "output_type": "execute_result"
    }
   ],
   "source": [
    "df['Genero'].value_counts()"
   ]
  },
  {
   "cell_type": "code",
   "execution_count": 67,
   "metadata": {
    "colab": {
     "base_uri": "https://localhost:8080/",
     "height": 399
    },
    "id": "58ulbfwyfjjF",
    "outputId": "05332cb6-d2b5-44be-939e-9cc0014e096d"
   },
   "outputs": [
    {
     "data": {
      "image/png": "[encoded data removed]",
      "text/plain": [
       "<Figure size 600x400 with 1 Axes>"
      ]
     },
     "metadata": {},
     "output_type": "display_data"
    }
   ],
   "source": [
    "# Calculando as contagens e percentuais\n",
    "totais = df['Genero'].value_counts()\n",
    "total_geral = totais.sum()\n",
    "percentuais = (totais / total_geral) * 100\n",
    "\n",
    "# Criando o gráfico de contagem\n",
    "plt.figure(figsize=(6, 4))\n",
    "plt.title(\"Visitantes do shopping por gênero\", fontsize=14, color='blue')\n",
    "\n",
    "# Definindo a ordem dos gêneros no gráfico para que \"Masculino\" venha antes de \"Feminino\"\n",
    "order = ['Feminino', 'Masculino']\n",
    "\n",
    "# Criando o gráfico de barras com o Seaborn\n",
    "ax = sns.countplot(x='Genero', data=df, order=order, width=0.6)\n",
    "\n",
    "# Adicionando os números e percentuais diretamente nas barras\n",
    "for barra, genero in zip(ax.patches, totais.index):\n",
    "    valor = totais[genero]\n",
    "    percentual = percentuais[genero]\n",
    "    altura = barra.get_height()\n",
    "\n",
    "    # Adicionando o valor e o percentual acima da barra\n",
    "    ax.text(\n",
    "        barra.get_x() + barra.get_width() / 2,  # Posição X (centro da barra)\n",
    "        altura,  # Posição Y um pouco abaixo da barra\n",
    "        f'{valor}\\n({percentual:.1f}%)',  # Número de visitantes e percentual\n",
    "        ha='center', fontsize=10, color='black', va='top'  # Estilo do texto\n",
    "    )\n",
    "\n",
    "# Ajustando o rótulo dos eixos\n",
    "ax.set_xlabel(\"Gênero\", fontsize=10)\n",
    "ax.set_ylabel(\"Número de Visitantes\", fontsize=10)\n",
    "\n",
    "# Exibindo o gráfico\n",
    "plt.show()"
   ]
  },
  {
   "cell_type": "markdown",
   "metadata": {
    "id": "3HMbuThbkP93"
   },
   "source": [
    "Conclusão: os clientes do sexo feminino são mais em relação com os clientes do sexo masculino."
   ]
  },
  {
   "cell_type": "markdown",
   "metadata": {
    "id": "IaWnRa8vkcTw"
   },
   "source": [
    "Age - idade do visitante do shopping"
   ]
  },
  {
   "cell_type": "code",
   "execution_count": 22,
   "metadata": {
    "colab": {
     "base_uri": "https://localhost:8080/"
    },
    "id": "_XcrtlmPkxPG",
    "outputId": "daf32261-e651-4932-a821-7aaf84eeab19"
   },
   "outputs": [
    {
     "data": {
      "text/plain": [
       "51"
      ]
     },
     "execution_count": 22,
     "metadata": {},
     "output_type": "execute_result"
    }
   ],
   "source": [
    "df['Idade'].nunique()"
   ]
  },
  {
   "cell_type": "code",
   "execution_count": 23,
   "metadata": {
    "colab": {
     "base_uri": "https://localhost:8080/"
    },
    "id": "JJgbI803k3mx",
    "outputId": "bacd0b2f-edd9-488b-9c63-2fda9de626cc"
   },
   "outputs": [
    {
     "data": {
      "text/plain": [
       "array([19, 21, 20, 23, 31, 22, 35, 64, 30, 67, 58, 24, 37, 52, 25, 46, 54,\n",
       "       29, 45, 40, 60, 53, 18, 49, 42, 36, 65, 48, 50, 27, 33, 59, 47, 51,\n",
       "       69, 70, 63, 43, 68, 32, 26, 57, 38, 55, 34, 66, 39, 44, 28, 56, 41],\n",
       "      dtype=int64)"
      ]
     },
     "execution_count": 23,
     "metadata": {},
     "output_type": "execute_result"
    }
   ],
   "source": [
    "df['Idade'].unique()"
   ]
  },
  {
   "cell_type": "code",
   "execution_count": 24,
   "metadata": {
    "colab": {
     "base_uri": "https://localhost:8080/"
    },
    "id": "NjwWSuSOlAGs",
    "outputId": "d9e1c743-b86c-4aab-c81e-77db923f3441"
   },
   "outputs": [
    {
     "data": {
      "text/plain": [
       "Idade\n",
       "32    11\n",
       "35     9\n",
       "19     8\n",
       "31     8\n",
       "30     7\n",
       "49     7\n",
       "40     6\n",
       "38     6\n",
       "47     6\n",
       "27     6\n",
       "36     6\n",
       "23     6\n",
       "34     5\n",
       "20     5\n",
       "29     5\n",
       "50     5\n",
       "48     5\n",
       "21     5\n",
       "24     4\n",
       "18     4\n",
       "28     4\n",
       "67     4\n",
       "59     4\n",
       "54     4\n",
       "43     3\n",
       "60     3\n",
       "45     3\n",
       "39     3\n",
       "33     3\n",
       "37     3\n",
       "22     3\n",
       "25     3\n",
       "46     3\n",
       "68     3\n",
       "52     2\n",
       "44     2\n",
       "66     2\n",
       "57     2\n",
       "26     2\n",
       "53     2\n",
       "42     2\n",
       "63     2\n",
       "70     2\n",
       "51     2\n",
       "58     2\n",
       "65     2\n",
       "41     2\n",
       "55     1\n",
       "69     1\n",
       "64     1\n",
       "56     1\n",
       "Name: count, dtype: int64"
      ]
     },
     "execution_count": 24,
     "metadata": {},
     "output_type": "execute_result"
    }
   ],
   "source": [
    "df['Idade'].value_counts()"
   ]
  },
  {
   "cell_type": "code",
   "execution_count": 25,
   "metadata": {
    "colab": {
     "base_uri": "https://localhost:8080/"
    },
    "id": "uDC-5BnqlG6i",
    "outputId": "1e06fab4-cf15-45fb-c993-4370cf7446aa"
   },
   "outputs": [
    {
     "data": {
      "text/plain": [
       "count    200.0\n",
       "mean      38.8\n",
       "std       14.0\n",
       "min       18.0\n",
       "25%       28.8\n",
       "50%       36.0\n",
       "75%       49.0\n",
       "max       70.0\n",
       "Name: Idade, dtype: float64"
      ]
     },
     "execution_count": 25,
     "metadata": {},
     "output_type": "execute_result"
    }
   ],
   "source": [
    "df['Idade'].describe().round(1)"
   ]
  },
  {
   "cell_type": "code",
   "execution_count": 49,
   "metadata": {},
   "outputs": [
    {
     "data": {
      "image/png": "[encoded data removed]",
      "text/plain": [
       "<Figure size 600x600 with 1 Axes>"
      ]
     },
     "metadata": {},
     "output_type": "display_data"
    }
   ],
   "source": [
    "# Criando o boxplot\n",
    "plt.figure(figsize=(6, 6))\n",
    "plt.title(\"Distribuição da Idade por Visitante\", fontsize=14, color='Blue')\n",
    "plt.xlabel('Idade', fontsize=10)\n",
    "plt.ylabel('Distribuição', fontsize=10)\n",
    "\n",
    "ax = sns.boxplot(data=df, y='Idade')\n",
    "\n",
    "# Calculando os valores do boxplot\n",
    "Q1 = df['Idade'].quantile(0.25)\n",
    "Q3 = df['Idade'].quantile(0.75)\n",
    "mediana = df['Idade'].median()\n",
    "\n",
    "# Adicionando rótulos para Q1, Q3 e a mediana\n",
    "# Como o gráfico é vertical, as coordenadas Y são as variáveis e as coordenadas X vão ser 0\n",
    "ax.text(0, Q1, f'Q1: {Q1:.1f}', horizontalalignment='center', verticalalignment='bottom', fontsize=10, color='black')\n",
    "ax.text(0, Q3, f'Q3: {Q3:.1f}', horizontalalignment='center', verticalalignment='top', fontsize=10, color='black')\n",
    "ax.text(0, mediana, f'Mediana: {mediana:.1f}', horizontalalignment='center', verticalalignment='top', fontsize=10, color='black')\n",
    "\n",
    "# Exibindo o gráfico\n",
    "plt.show()"
   ]
  },
  {
   "cell_type": "code",
   "execution_count": 51,
   "metadata": {
    "colab": {
     "base_uri": "https://localhost:8080/",
     "height": 396
    },
    "id": "t1vk5rKAljdG",
    "outputId": "ef2a0a93-0ec1-4417-f787-6c5a824897dc"
   },
   "outputs": [
    {
     "name": "stderr",
     "output_type": "stream",
     "text": [
      "c:\\Users\\rocki\\anaconda3\\Lib\\site-packages\\seaborn\\_oldcore.py:1119: FutureWarning: use_inf_as_na option is deprecated and will be removed in a future version. Convert inf values to NaN before operating instead.\n",
      "  with pd.option_context('mode.use_inf_as_na', True):\n"
     ]
    },
    {
     "data": {
      "image/png": "[encoded data removed]",
      "text/plain": [
       "<Figure size 700x400 with 1 Axes>"
      ]
     },
     "metadata": {},
     "output_type": "display_data"
    }
   ],
   "source": [
    "plt.figure(figsize=(7, 4))\n",
    "plt.title(\"Distribuição da Idade\", fontsize=14, color='Blue')\n",
    "plt.xlabel('Variação da Idade', fontsize=10)\n",
    "plt.ylabel('Número de Visitantes', fontsize=10)\n",
    "\n",
    "# Criando o histograma com densidade\n",
    "ax = sns.histplot(df['Idade'], kde=False, stat='count', bins=10)\n",
    "\n",
    "# Adicionar os rótulos de densidade ajustados\n",
    "for patch in ax.patches:\n",
    "    altura = patch.get_height()  # Altura da barra (densidade)\n",
    "    if altura > 0:  # Evitar rótulos em barras vazias\n",
    "        ax.text(patch.get_x() + patch.get_width() / 2,  # Centro da barra\n",
    "                altura - (altura * 0.05),  # Ajuste para ficar levemente abaixo do topo\n",
    "                f'{altura:.0f}',  # Valor da densidade com 2 casas decimais\n",
    "                ha='center', va='top', fontsize=9)\n",
    "\n",
    "plt.show()"
   ]
  },
  {
   "cell_type": "markdown",
   "metadata": {
    "id": "6mBLSCZlmiD5"
   },
   "source": [
    "#### Conclusão: existem clientes com variedade de idades."
   ]
  },
  {
   "cell_type": "markdown",
   "metadata": {
    "id": "qjcXibNnmnXl"
   },
   "source": [
    "#### Annual Income (k$): renda anual"
   ]
  },
  {
   "cell_type": "code",
   "execution_count": 27,
   "metadata": {
    "colab": {
     "base_uri": "https://localhost:8080/"
    },
    "id": "4r-mPVhsmxVS",
    "outputId": "1010c1cf-81da-42ef-b74c-5372b7d58f96"
   },
   "outputs": [
    {
     "data": {
      "text/plain": [
       "64"
      ]
     },
     "execution_count": 27,
     "metadata": {},
     "output_type": "execute_result"
    }
   ],
   "source": [
    "df['Renda Anual(kR$)'].nunique()"
   ]
  },
  {
   "cell_type": "code",
   "execution_count": 28,
   "metadata": {
    "colab": {
     "base_uri": "https://localhost:8080/"
    },
    "id": "U8NPw3ELm3Kn",
    "outputId": "43411c61-482c-4b7c-db43-20ee1b7e7660"
   },
   "outputs": [
    {
     "data": {
      "text/plain": [
       "array([ 15,  16,  17,  18,  19,  20,  21,  23,  24,  25,  28,  29,  30,\n",
       "        33,  34,  37,  38,  39,  40,  42,  43,  44,  46,  47,  48,  49,\n",
       "        50,  54,  57,  58,  59,  60,  61,  62,  63,  64,  65,  67,  69,\n",
       "        70,  71,  72,  73,  74,  75,  76,  77,  78,  79,  81,  85,  86,\n",
       "        87,  88,  93,  97,  98,  99, 101, 103, 113, 120, 126, 137],\n",
       "      dtype=int64)"
      ]
     },
     "execution_count": 28,
     "metadata": {},
     "output_type": "execute_result"
    }
   ],
   "source": [
    "df['Renda Anual(kR$)'].unique()"
   ]
  },
  {
   "cell_type": "code",
   "execution_count": 29,
   "metadata": {
    "colab": {
     "base_uri": "https://localhost:8080/"
    },
    "id": "La4RKqTJm6f3",
    "outputId": "1db9efa8-64a8-44ae-eb94-8fde6a33776a"
   },
   "outputs": [
    {
     "data": {
      "text/plain": [
       "count    200.0\n",
       "mean      60.6\n",
       "std       26.3\n",
       "min       15.0\n",
       "25%       41.5\n",
       "50%       61.5\n",
       "75%       78.0\n",
       "max      137.0\n",
       "Name: Renda Anual(kR$), dtype: float64"
      ]
     },
     "execution_count": 29,
     "metadata": {},
     "output_type": "execute_result"
    }
   ],
   "source": [
    "df['Renda Anual(kR$)'].describe().round(1)"
   ]
  },
  {
   "cell_type": "code",
   "execution_count": 53,
   "metadata": {
    "colab": {
     "base_uri": "https://localhost:8080/",
     "height": 571
    },
    "id": "c71iwtXxnXZ_",
    "outputId": "67dac3e4-1b8b-40a3-9409-87cc7636192a"
   },
   "outputs": [
    {
     "data": {
      "text/plain": [
       "Text(0, 61.5, 'Mediana: 61.5')"
      ]
     },
     "execution_count": 53,
     "metadata": {},
     "output_type": "execute_result"
    },
    {
     "data": {
      "image/png": "[encoded data removed]",
      "text/plain": [
       "<Figure size 600x600 with 1 Axes>"
      ]
     },
     "metadata": {},
     "output_type": "display_data"
    }
   ],
   "source": [
    "# Criando o boxplot\n",
    "plt.figure(figsize=(6, 6))\n",
    "plt.title(\"Distribuição da Renda Anual por Visitante\", fontsize=14, color='Blue')\n",
    "plt.xlabel('Renda Anual (kR$)', fontsize=10)\n",
    "plt.ylabel('Distribuição', fontsize=10)\n",
    "\n",
    "ax = sns.boxplot(data=df, y='Renda Anual(kR$)')\n",
    "\n",
    "# Calculando os valores do boxplot\n",
    "Q1 = df['Renda Anual(kR$)'].quantile(0.25)\n",
    "Q3 = df['Renda Anual(kR$)'].quantile(0.75)\n",
    "mediana = df['Renda Anual(kR$)'].median()\n",
    "\n",
    "# Adicionando rótulos para Q1, Q3 e a mediana\n",
    "ax.text(0, Q1, f'Q1: {Q1:.1f}', horizontalalignment='center', verticalalignment='bottom', fontsize=10, color='black')\n",
    "ax.text(0, Q3, f'Q3: {Q3:.1f}', horizontalalignment='center', verticalalignment='top', fontsize=10, color='black')\n",
    "ax.text(0, mediana, f'Mediana: {mediana:.1f}', horizontalalignment='center', verticalalignment='top', fontsize=10, color='black')"
   ]
  },
  {
   "cell_type": "code",
   "execution_count": 57,
   "metadata": {
    "colab": {
     "base_uri": "https://localhost:8080/",
     "height": 396
    },
    "id": "RVuEd55w_VNp",
    "outputId": "78ee4baf-9c42-4313-dec5-97f5368e950d"
   },
   "outputs": [
    {
     "name": "stderr",
     "output_type": "stream",
     "text": [
      "c:\\Users\\rocki\\anaconda3\\Lib\\site-packages\\seaborn\\_oldcore.py:1119: FutureWarning: use_inf_as_na option is deprecated and will be removed in a future version. Convert inf values to NaN before operating instead.\n",
      "  with pd.option_context('mode.use_inf_as_na', True):\n"
     ]
    },
    {
     "data": {
      "image/png": "[encoded data removed]",
      "text/plain": [
       "<Figure size 700x400 with 1 Axes>"
      ]
     },
     "metadata": {},
     "output_type": "display_data"
    }
   ],
   "source": [
    "# Criando o histograma\n",
    "plt.figure(figsize=(7, 4))\n",
    "plt.title(\"Renda Anual por Visitante\", fontsize=14, color='Blue')\n",
    "plt.xlabel('Distribuição da Renda Anual', fontsize=10)\n",
    "plt.ylabel('Número de Visitantes', fontsize=10)\n",
    "\n",
    "# Criação do histograma com o seaborn\n",
    "ax = sns.histplot(df['Renda Anual(kR$)'], bins=10, kde=False)\n",
    "\n",
    "# Adicionando os rótulos de quantidade de visitantes nas barras\n",
    "for patch in ax.patches:\n",
    "    altura = patch.get_height()\n",
    "    largura = patch.get_width()\n",
    "    x = patch.get_x() + largura / 2  # Posição X (centro da barra)\n",
    "    y = altura  - 1# Posição Y (altura da barra)\n",
    "    \n",
    "    # Adicionando o rótulo com a quantidade de visitantes\n",
    "    ax.text(x, y, f'{int(altura)}', ha='center', va='top', fontsize=10, color='black')\n",
    "\n",
    "# Exibindo o gráfico\n",
    "plt.show()"
   ]
  },
  {
   "cell_type": "markdown",
   "metadata": {
    "id": "C6UTtNCJAOmw"
   },
   "source": [
    "#### Conclusão: a maior parte da renda anual fica entre 50k e 85k."
   ]
  },
  {
   "cell_type": "code",
   "execution_count": 32,
   "metadata": {
    "colab": {
     "base_uri": "https://localhost:8080/"
    },
    "id": "wEUL-cuaAVzn",
    "outputId": "e3dbfcb6-b6d4-4459-ec58-e7dd3e5c4d8b"
   },
   "outputs": [
    {
     "data": {
      "text/plain": [
       "84"
      ]
     },
     "execution_count": 32,
     "metadata": {},
     "output_type": "execute_result"
    }
   ],
   "source": [
    "df['Score(1-100)'].nunique()"
   ]
  },
  {
   "cell_type": "code",
   "execution_count": 33,
   "metadata": {
    "colab": {
     "base_uri": "https://localhost:8080/"
    },
    "id": "vTWp8nAYAlyu",
    "outputId": "3644559f-5cf5-4db6-bc9c-9c5ce680d428"
   },
   "outputs": [
    {
     "data": {
      "text/plain": [
       "array([39, 81,  6, 77, 40, 76, 94,  3, 72, 14, 99, 15, 13, 79, 35, 66, 29,\n",
       "       98, 73,  5, 82, 32, 61, 31, 87,  4, 92, 17, 26, 75, 36, 28, 65, 55,\n",
       "       47, 42, 52, 60, 54, 45, 41, 50, 46, 51, 56, 59, 48, 49, 53, 44, 57,\n",
       "       58, 43, 91, 95, 11,  9, 34, 71, 88,  7, 10, 93, 12, 97, 74, 22, 90,\n",
       "       20, 16, 89,  1, 78, 83, 27, 63, 86, 69, 24, 68, 85, 23,  8, 18],\n",
       "      dtype=int64)"
      ]
     },
     "execution_count": 33,
     "metadata": {},
     "output_type": "execute_result"
    }
   ],
   "source": [
    "df['Score(1-100)'].unique()"
   ]
  },
  {
   "cell_type": "code",
   "execution_count": 34,
   "metadata": {
    "colab": {
     "base_uri": "https://localhost:8080/"
    },
    "id": "gzHlU1lVB-8O",
    "outputId": "6c1634cf-948b-4d9a-8d50-80d4921f6ca8"
   },
   "outputs": [
    {
     "data": {
      "text/plain": [
       "count    200.0\n",
       "mean      50.2\n",
       "std       25.8\n",
       "min        1.0\n",
       "25%       34.8\n",
       "50%       50.0\n",
       "75%       73.0\n",
       "max       99.0\n",
       "Name: Score(1-100), dtype: float64"
      ]
     },
     "execution_count": 34,
     "metadata": {},
     "output_type": "execute_result"
    }
   ],
   "source": [
    "df['Score(1-100)'].describe().round(1)"
   ]
  },
  {
   "cell_type": "code",
   "execution_count": 60,
   "metadata": {
    "colab": {
     "base_uri": "https://localhost:8080/",
     "height": 571
    },
    "id": "IJgoYo8LBP4A",
    "outputId": "2d2b85ba-d009-4bda-e325-c7f9ceb65f62"
   },
   "outputs": [
    {
     "data": {
      "text/plain": [
       "Text(0, 50.0, 'Mediana: 50.0')"
      ]
     },
     "execution_count": 60,
     "metadata": {},
     "output_type": "execute_result"
    },
    {
     "data": {
      "image/png": "[encoded data removed]",
      "text/plain": [
       "<Figure size 600x400 with 1 Axes>"
      ]
     },
     "metadata": {},
     "output_type": "display_data"
    }
   ],
   "source": [
    "# Criando o boxplot\n",
    "plt.figure(figsize=(6, 4))\n",
    "plt.title(\"Distribuição de Score(1-100) por Visitante\", fontsize=14, color='Blue')\n",
    "plt.xlabel('Score(1-100)', fontsize=10)\n",
    "plt.ylabel('Distribuição', fontsize=10)\n",
    "\n",
    "ax = sns.boxplot(data=df, y='Score(1-100)')\n",
    "\n",
    "# Calculando os valores do boxplot\n",
    "Q1 = df['Score(1-100)'].quantile(0.25)\n",
    "Q3 = df['Score(1-100)'].quantile(0.75)\n",
    "mediana = df['Score(1-100)'].median()\n",
    "\n",
    "# Adicionando rótulos para Q1, Q3 e a mediana\n",
    "ax.text(0, Q1, f'Q1: {Q1:.1f}', horizontalalignment='center', verticalalignment='bottom', fontsize=10, color='black')\n",
    "ax.text(0, Q3, f'Q3: {Q3:.1f}', horizontalalignment='center', verticalalignment='top', fontsize=10, color='black')\n",
    "ax.text(0, mediana, f'Mediana: {mediana:.1f}', horizontalalignment='center', verticalalignment='top', fontsize=10, color='black')"
   ]
  },
  {
   "cell_type": "code",
   "execution_count": 61,
   "metadata": {
    "colab": {
     "base_uri": "https://localhost:8080/",
     "height": 396
    },
    "id": "cvKphVfHBfqj",
    "outputId": "7027de18-cb96-4913-9a04-8f6dde05f24f"
   },
   "outputs": [
    {
     "name": "stderr",
     "output_type": "stream",
     "text": [
      "c:\\Users\\rocki\\anaconda3\\Lib\\site-packages\\seaborn\\_oldcore.py:1119: FutureWarning: use_inf_as_na option is deprecated and will be removed in a future version. Convert inf values to NaN before operating instead.\n",
      "  with pd.option_context('mode.use_inf_as_na', True):\n"
     ]
    },
    {
     "data": {
      "image/png": "[encoded data removed]",
      "text/plain": [
       "<Figure size 700x500 with 1 Axes>"
      ]
     },
     "metadata": {},
     "output_type": "display_data"
    }
   ],
   "source": [
    "plt.figure(figsize=(7, 5))\n",
    "plt.title(\"Score por Visitante\", fontsize=10, color='Blue')\n",
    "plt.xlabel('Score (escala de 1 a 100)', fontsize=10)\n",
    "plt.ylabel('Número de Visitantes (frequência)', fontsize=10)\n",
    "\n",
    "# Criar o histograma\n",
    "ax = sns.histplot(df['Score(1-100)'], bins=10)\n",
    "\n",
    "# Adicionar os rótulos de frequência acima de cada barra\n",
    "for patch in ax.patches:\n",
    "    altura = patch.get_height()  # Altura da barra\n",
    "    if altura > 0:  # Evitar rótulos em barras vazias\n",
    "        ax.text(patch.get_x() + patch.get_width() / 2,  # Centro da barra\n",
    "                altura - 1,  # Altura do rótulo\n",
    "                int(altura),  # Valor da frequência\n",
    "                ha='center', va='top', fontsize=9)\n",
    "\n",
    "plt.show()"
   ]
  },
  {
   "cell_type": "markdown",
   "metadata": {
    "id": "aQLqL77qBwH2"
   },
   "source": [
    "Conclusão: a maioria dos clientes tem pontuação entre 40 e 60."
   ]
  },
  {
   "cell_type": "markdown",
   "metadata": {
    "id": "zCt81JDACeyG"
   },
   "source": [
    "#### Como as variáveis se relacionam entre si?"
   ]
  },
  {
   "cell_type": "code",
   "execution_count": null,
   "metadata": {
    "colab": {
     "base_uri": "https://localhost:8080/",
     "height": 143
    },
    "id": "FOVITBm-CjlQ",
    "outputId": "61fefeec-9a21-47af-a8f2-33b1d14f46b1"
   },
   "outputs": [
    {
     "data": {
      "text/html": [
       "\n",
       "  <div id=\"df-e36f1bc8-1a31-4ad9-b072-d067dfc2ab6e\">\n",
       "    <div class=\"colab-df-container\">\n",
       "      <div>\n",
       "<style scoped>\n",
       "    .dataframe tbody tr th:only-of-type {\n",
       "        vertical-align: middle;\n",
       "    }\n",
       "\n",
       "    .dataframe tbody tr th {\n",
       "        vertical-align: top;\n",
       "    }\n",
       "\n",
       "    .dataframe thead th {\n",
       "        text-align: right;\n",
       "    }\n",
       "</style>\n",
       "<table border=\"1\" class=\"dataframe\">\n",
       "  <thead>\n",
       "    <tr style=\"text-align: right;\">\n",
       "      <th></th>\n",
       "      <th>Idade</th>\n",
       "      <th>Renda Anual(kR$)</th>\n",
       "      <th>Score(1-100)</th>\n",
       "    </tr>\n",
       "  </thead>\n",
       "  <tbody>\n",
       "    <tr>\n",
       "      <th>Idade</th>\n",
       "      <td>1.000000</td>\n",
       "      <td>-0.012398</td>\n",
       "      <td>-0.327227</td>\n",
       "    </tr>\n",
       "    <tr>\n",
       "      <th>Renda Anual(kR$)</th>\n",
       "      <td>-0.012398</td>\n",
       "      <td>1.000000</td>\n",
       "      <td>0.009903</td>\n",
       "    </tr>\n",
       "    <tr>\n",
       "      <th>Score(1-100)</th>\n",
       "      <td>-0.327227</td>\n",
       "      <td>0.009903</td>\n",
       "      <td>1.000000</td>\n",
       "    </tr>\n",
       "  </tbody>\n",
       "</table>\n",
       "</div>\n",
       "      <button class=\"colab-df-convert\" onclick=\"convertToInteractive('df-e36f1bc8-1a31-4ad9-b072-d067dfc2ab6e')\"\n",
       "              title=\"Convert this dataframe to an interactive table.\"\n",
       "              style=\"display:none;\">\n",
       "        \n",
       "  <svg xmlns=\"http://www.w3.org/2000/svg\" height=\"24px\"viewBox=\"0 0 24 24\"\n",
       "       width=\"24px\">\n",
       "    <path d=\"M0 0h24v24H0V0z\" fill=\"none\"/>\n",
       "    <path d=\"M18.56 5.44l.94 2.06.94-2.06 2.06-.94-2.06-.94-.94-2.06-.94 2.06-2.06.94zm-11 1L8.5 8.5l.94-2.06 2.06-.94-2.06-.94L8.5 2.5l-.94 2.06-2.06.94zm10 10l.94 2.06.94-2.06 2.06-.94-2.06-.94-.94-2.06-.94 2.06-2.06.94z\"/><path d=\"M17.41 7.96l-1.37-1.37c-.4-.4-.92-.59-1.43-.59-.52 0-1.04.2-1.43.59L10.3 9.45l-7.72 7.72c-.78.78-.78 2.05 0 2.83L4 21.41c.39.39.9.59 1.41.59.51 0 1.02-.2 1.41-.59l7.78-7.78 2.81-2.81c.8-.78.8-2.07 0-2.86zM5.41 20L4 18.59l7.72-7.72 1.47 1.35L5.41 20z\"/>\n",
       "  </svg>\n",
       "      </button>\n",
       "      \n",
       "  <style>\n",
       "    .colab-df-container {\n",
       "      display:flex;\n",
       "      flex-wrap:wrap;\n",
       "      gap: 12px;\n",
       "    }\n",
       "\n",
       "    .colab-df-convert {\n",
       "      background-color: #E8F0FE;\n",
       "      border: none;\n",
       "      border-radius: 50%;\n",
       "      cursor: pointer;\n",
       "      display: none;\n",
       "      fill: #1967D2;\n",
       "      height: 32px;\n",
       "      padding: 0 0 0 0;\n",
       "      width: 32px;\n",
       "    }\n",
       "\n",
       "    .colab-df-convert:hover {\n",
       "      background-color: #E2EBFA;\n",
       "      box-shadow: 0px 1px 2px rgba(60, 64, 67, 0.3), 0px 1px 3px 1px rgba(60, 64, 67, 0.15);\n",
       "      fill: #174EA6;\n",
       "    }\n",
       "\n",
       "    [theme=dark] .colab-df-convert {\n",
       "      background-color: #3B4455;\n",
       "      fill: #D2E3FC;\n",
       "    }\n",
       "\n",
       "    [theme=dark] .colab-df-convert:hover {\n",
       "      background-color: #434B5C;\n",
       "      box-shadow: 0px 1px 3px 1px rgba(0, 0, 0, 0.15);\n",
       "      filter: drop-shadow(0px 1px 2px rgba(0, 0, 0, 0.3));\n",
       "      fill: #FFFFFF;\n",
       "    }\n",
       "  </style>\n",
       "\n",
       "      <script>\n",
       "        const buttonEl =\n",
       "          document.querySelector('#df-e36f1bc8-1a31-4ad9-b072-d067dfc2ab6e button.colab-df-convert');\n",
       "        buttonEl.style.display =\n",
       "          google.colab.kernel.accessAllowed ? 'block' : 'none';\n",
       "\n",
       "        async function convertToInteractive(key) {\n",
       "          const element = document.querySelector('#df-e36f1bc8-1a31-4ad9-b072-d067dfc2ab6e');\n",
       "          const dataTable =\n",
       "            await google.colab.kernel.invokeFunction('convertToInteractive',\n",
       "                                                     [key], {});\n",
       "          if (!dataTable) return;\n",
       "\n",
       "          const docLinkHtml = 'Like what you see? Visit the ' +\n",
       "            '<a target=\"_blank\" href=https://colab.research.google.com/notebooks/data_table.ipynb>data table notebook</a>'\n",
       "            + ' to learn more about interactive tables.';\n",
       "          element.innerHTML = '';\n",
       "          dataTable['output_type'] = 'display_data';\n",
       "          await google.colab.output.renderOutput(dataTable, element);\n",
       "          const docLink = document.createElement('div');\n",
       "          docLink.innerHTML = docLinkHtml;\n",
       "          element.appendChild(docLink);\n",
       "        }\n",
       "      </script>\n",
       "    </div>\n",
       "  </div>\n",
       "  "
      ],
      "text/plain": [
       "                     Idade  Renda Anual(kR$)  Score(1-100)\n",
       "Idade             1.000000         -0.012398     -0.327227\n",
       "Renda Anual(kR$) -0.012398          1.000000      0.009903\n",
       "Score(1-100)     -0.327227          0.009903      1.000000"
      ]
     },
     "execution_count": 79,
     "metadata": {},
     "output_type": "execute_result"
    }
   ],
   "source": [
    "df.corr()"
   ]
  },
  {
   "cell_type": "code",
   "execution_count": null,
   "metadata": {
    "colab": {
     "base_uri": "https://localhost:8080/",
     "height": 449
    },
    "id": "Itny7lJ9D0Bp",
    "outputId": "38a3ecc8-cc08-4cef-9248-5ddcc4bc7a82"
   },
   "outputs": [
    {
     "data": {
      "text/plain": [
       "<matplotlib.axes._subplots.AxesSubplot at 0x7f407486fc90>"
      ]
     },
     "execution_count": 80,
     "metadata": {},
     "output_type": "execute_result"
    },
    {
     "data": {
      "image/png": "[encoded data removed]",
      "text/plain": [
       "<Figure size 1080x504 with 2 Axes>"
      ]
     },
     "metadata": {},
     "output_type": "display_data"
    }
   ],
   "source": [
    "plt.figure(figsize=(15,7))\n",
    "sns.heatmap(df.corr(),cmap='Blues', annot=True, linewidth=3 )"
   ]
  },
  {
   "cell_type": "markdown",
   "metadata": {
    "id": "vQ5mTXI7FzZS"
   },
   "source": [
    "#### Como a idade varia em relação ao gênero?"
   ]
  },
  {
   "cell_type": "code",
   "execution_count": null,
   "metadata": {
    "colab": {
     "base_uri": "https://localhost:8080/"
    },
    "id": "D-UxVjW_EnEn",
    "outputId": "6ba1e8e8-1d7a-469b-8927-3fccdf749394"
   },
   "outputs": [
    {
     "data": {
      "text/plain": [
       "Genero\n",
       "Feminino     38.098214\n",
       "Masculino    39.806818\n",
       "Name: Idade, dtype: float64"
      ]
     },
     "execution_count": 81,
     "metadata": {},
     "output_type": "execute_result"
    }
   ],
   "source": [
    "df.groupby('Genero')['Idade'].mean()"
   ]
  },
  {
   "cell_type": "code",
   "execution_count": 62,
   "metadata": {
    "colab": {
     "base_uri": "https://localhost:8080/",
     "height": 605
    },
    "id": "UC1xfQN8E9Zn",
    "outputId": "a1fcffae-2fcc-4274-dc52-bfc4c0253748"
   },
   "outputs": [
    {
     "data": {
      "text/plain": [
       "<Axes: xlabel='Genero', ylabel='Idade'>"
      ]
     },
     "execution_count": 62,
     "metadata": {},
     "output_type": "execute_result"
    },
    {
     "data": {
      "image/png": "[encoded data removed]",
      "text/plain": [
       "<Figure size 700x500 with 1 Axes>"
      ]
     },
     "metadata": {},
     "output_type": "display_data"
    }
   ],
   "source": [
    "plt.figure(figsize=(7, 5))\n",
    "sns.boxplot(x='Genero', y='Idade',data=df)"
   ]
  },
  {
   "cell_type": "markdown",
   "metadata": {
    "id": "hBDXWFPjFcmD"
   },
   "source": [
    "Conclusão: o público masculino tem maior variação de renda, seja no intervalo interquartil, seja entre os outliers."
   ]
  },
  {
   "cell_type": "markdown",
   "metadata": {
    "id": "cp0tk1wVFnQu"
   },
   "source": [
    "#### Como a renda varia em relação ao gênero?"
   ]
  },
  {
   "cell_type": "code",
   "execution_count": null,
   "metadata": {
    "colab": {
     "base_uri": "https://localhost:8080/"
    },
    "id": "0zpfxUISFmkf",
    "outputId": "77212bac-69bd-4872-b679-36e17e81b7ed"
   },
   "outputs": [
    {
     "data": {
      "text/plain": [
       "Genero\n",
       "Feminino     59.250000\n",
       "Masculino    62.227273\n",
       "Name: Renda Anual(kR$), dtype: float64"
      ]
     },
     "execution_count": 84,
     "metadata": {},
     "output_type": "execute_result"
    }
   ],
   "source": [
    "df.groupby('Genero')['Renda Anual(kR$)'].mean()"
   ]
  },
  {
   "cell_type": "code",
   "execution_count": 63,
   "metadata": {
    "colab": {
     "base_uri": "https://localhost:8080/",
     "height": 601
    },
    "id": "3rHlg_mdGOzf",
    "outputId": "fba514b1-eeb7-453c-aa70-eb083541e367"
   },
   "outputs": [
    {
     "data": {
      "text/plain": [
       "<Axes: xlabel='Genero', ylabel='Renda Anual(kR$)'>"
      ]
     },
     "execution_count": 63,
     "metadata": {},
     "output_type": "execute_result"
    },
    {
     "data": {
      "image/png": "[encoded data removed]",
      "text/plain": [
       "<Figure size 700x500 with 1 Axes>"
      ]
     },
     "metadata": {},
     "output_type": "display_data"
    }
   ],
   "source": [
    "plt.figure(figsize=(7, 5))\n",
    "sns.boxplot(x='Genero', y='Renda Anual(kR$)',data=df)"
   ]
  },
  {
   "cell_type": "markdown",
   "metadata": {
    "id": "MnramwkBGXGt"
   },
   "source": [
    "Conclusão: enquanto no público masculino tem renda entre os outliers, o público feminino tem maior variabilidade entre o intervalo interquartis."
   ]
  },
  {
   "cell_type": "markdown",
   "metadata": {
    "id": "3R1cv5NDHOEC"
   },
   "source": [
    "#### Como a renda varia em relação a idade?"
   ]
  },
  {
   "cell_type": "code",
   "execution_count": null,
   "metadata": {
    "colab": {
     "base_uri": "https://localhost:8080/"
    },
    "id": "CRexKPtrHKh8",
    "outputId": "5a650918-072a-4bce-9418-71af8896ea09"
   },
   "outputs": [
    {
     "data": {
      "text/plain": [
       "Idade\n",
       "18     51.250000\n",
       "19     57.000000\n",
       "20     41.600000\n",
       "21     38.800000\n",
       "22     31.333333\n",
       "23     41.500000\n",
       "24     39.250000\n",
       "25     57.666667\n",
       "26     58.000000\n",
       "27     63.166667\n",
       "28     85.250000\n",
       "29     63.600000\n",
       "30     76.142857\n",
       "31     48.375000\n",
       "32     87.181818\n",
       "33     80.333333\n",
       "34     79.000000\n",
       "35     46.666667\n",
       "36     81.000000\n",
       "37     65.000000\n",
       "38     74.500000\n",
       "39     72.666667\n",
       "40     61.666667\n",
       "41    101.000000\n",
       "42     60.000000\n",
       "43     65.666667\n",
       "44     75.500000\n",
       "45     69.333333\n",
       "46     59.000000\n",
       "47     70.166667\n",
       "48     58.200000\n",
       "49     51.000000\n",
       "50     58.600000\n",
       "51     55.500000\n",
       "52     55.500000\n",
       "53     39.500000\n",
       "54     59.750000\n",
       "55     57.000000\n",
       "56     79.000000\n",
       "57     64.500000\n",
       "58     54.000000\n",
       "59     65.250000\n",
       "60     43.333333\n",
       "63     56.500000\n",
       "64     19.000000\n",
       "65     50.500000\n",
       "66     63.000000\n",
       "67     45.500000\n",
       "68     56.666667\n",
       "69     44.000000\n",
       "70     47.500000\n",
       "Name: Renda Anual(kR$), dtype: float64"
      ]
     },
     "execution_count": 86,
     "metadata": {},
     "output_type": "execute_result"
    }
   ],
   "source": [
    "df.groupby('Idade')['Renda Anual(kR$)'].mean()"
   ]
  },
  {
   "cell_type": "code",
   "execution_count": null,
   "metadata": {
    "colab": {
     "base_uri": "https://localhost:8080/",
     "height": 601
    },
    "id": "-8PKBI2NHZLc",
    "outputId": "2d5f5e96-326c-41d3-f8d3-3e873bff5687"
   },
   "outputs": [
    {
     "data": {
      "text/plain": [
       "<matplotlib.axes._subplots.AxesSubplot at 0x7f4074c2f2d0>"
      ]
     },
     "execution_count": 87,
     "metadata": {},
     "output_type": "execute_result"
    },
    {
     "data": {
      "image/png": "[encoded data removed]",
      "text/plain": [
       "<Figure size 1080x720 with 1 Axes>"
      ]
     },
     "metadata": {},
     "output_type": "display_data"
    }
   ],
   "source": [
    "plt.figure(figsize=(15, 10))\n",
    "sns.boxplot(x='Idade', y='Renda Anual(kR$)',data=df)"
   ]
  }
 ],
 "metadata": {
  "colab": {
   "collapsed_sections": [],
   "provenance": []
  },
  "kernelspec": {
   "display_name": "base",
   "language": "python",
   "name": "python3"
  },
  "language_info": {
   "codemirror_mode": {
    "name": "ipython",
    "version": 3
   },
   "file_extension": ".py",
   "mimetype": "text/x-python",
   "name": "python",
   "nbconvert_exporter": "python",
   "pygments_lexer": "ipython3",
   "version": "3.11.5"
  }
 },
 "nbformat": 4,
 "nbformat_minor": 0
}
